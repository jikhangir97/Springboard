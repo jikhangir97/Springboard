{
 "cells": [
  {
   "cell_type": "markdown",
   "metadata": {},
   "source": [
    "## Modeling"
   ]
  },
  {
   "cell_type": "code",
   "execution_count": 60,
   "metadata": {},
   "outputs": [],
   "source": [
    "import pandas as pd\n",
    "import numpy as np\n",
    "import matplotlib.pyplot as plt\n",
    "import seaborn as sns\n",
    "from sklearn.preprocessing import MinMaxScaler\n",
    "from sklearn.cluster import KMeans\n",
    "import sklearn.cluster as cluster\n",
    "import sklearn.metrics as metrics"
   ]
  },
  {
   "cell_type": "code",
   "execution_count": 19,
   "metadata": {},
   "outputs": [],
   "source": [
    "df = pd.read_csv('data_cleaned.csv')"
   ]
  },
  {
   "cell_type": "code",
   "execution_count": 20,
   "metadata": {},
   "outputs": [
    {
     "data": {
      "text/html": [
       "<div>\n",
       "<style scoped>\n",
       "    .dataframe tbody tr th:only-of-type {\n",
       "        vertical-align: middle;\n",
       "    }\n",
       "\n",
       "    .dataframe tbody tr th {\n",
       "        vertical-align: top;\n",
       "    }\n",
       "\n",
       "    .dataframe thead th {\n",
       "        text-align: right;\n",
       "    }\n",
       "</style>\n",
       "<table border=\"1\" class=\"dataframe\">\n",
       "  <thead>\n",
       "    <tr style=\"text-align: right;\">\n",
       "      <th></th>\n",
       "      <th>Gender</th>\n",
       "      <th>Ever_Married</th>\n",
       "      <th>Age</th>\n",
       "      <th>Graduated</th>\n",
       "      <th>Profession</th>\n",
       "      <th>Work_Experience</th>\n",
       "      <th>Spending_Score</th>\n",
       "      <th>Family_Size</th>\n",
       "      <th>Category</th>\n",
       "    </tr>\n",
       "  </thead>\n",
       "  <tbody>\n",
       "    <tr>\n",
       "      <th>0</th>\n",
       "      <td>0</td>\n",
       "      <td>1</td>\n",
       "      <td>36</td>\n",
       "      <td>1</td>\n",
       "      <td>1</td>\n",
       "      <td>0</td>\n",
       "      <td>1</td>\n",
       "      <td>1</td>\n",
       "      <td>6</td>\n",
       "    </tr>\n",
       "    <tr>\n",
       "      <th>1</th>\n",
       "      <td>1</td>\n",
       "      <td>1</td>\n",
       "      <td>37</td>\n",
       "      <td>1</td>\n",
       "      <td>2</td>\n",
       "      <td>8</td>\n",
       "      <td>2</td>\n",
       "      <td>4</td>\n",
       "      <td>6</td>\n",
       "    </tr>\n",
       "    <tr>\n",
       "      <th>2</th>\n",
       "      <td>0</td>\n",
       "      <td>1</td>\n",
       "      <td>69</td>\n",
       "      <td>0</td>\n",
       "      <td>2</td>\n",
       "      <td>0</td>\n",
       "      <td>1</td>\n",
       "      <td>1</td>\n",
       "      <td>6</td>\n",
       "    </tr>\n",
       "    <tr>\n",
       "      <th>3</th>\n",
       "      <td>1</td>\n",
       "      <td>1</td>\n",
       "      <td>59</td>\n",
       "      <td>0</td>\n",
       "      <td>3</td>\n",
       "      <td>11</td>\n",
       "      <td>3</td>\n",
       "      <td>2</td>\n",
       "      <td>6</td>\n",
       "    </tr>\n",
       "    <tr>\n",
       "      <th>4</th>\n",
       "      <td>0</td>\n",
       "      <td>0</td>\n",
       "      <td>19</td>\n",
       "      <td>0</td>\n",
       "      <td>4</td>\n",
       "      <td>11</td>\n",
       "      <td>1</td>\n",
       "      <td>4</td>\n",
       "      <td>6</td>\n",
       "    </tr>\n",
       "  </tbody>\n",
       "</table>\n",
       "</div>"
      ],
      "text/plain": [
       "   Gender  Ever_Married  Age  Graduated  Profession  Work_Experience  \\\n",
       "0       0             1   36          1           1                0   \n",
       "1       1             1   37          1           2                8   \n",
       "2       0             1   69          0           2                0   \n",
       "3       1             1   59          0           3               11   \n",
       "4       0             0   19          0           4               11   \n",
       "\n",
       "   Spending_Score  Family_Size  Category  \n",
       "0               1            1         6  \n",
       "1               2            4         6  \n",
       "2               1            1         6  \n",
       "3               3            2         6  \n",
       "4               1            4         6  "
      ]
     },
     "execution_count": 20,
     "metadata": {},
     "output_type": "execute_result"
    }
   ],
   "source": [
    "df.head()"
   ]
  },
  {
   "cell_type": "code",
   "execution_count": 21,
   "metadata": {},
   "outputs": [],
   "source": [
    "scaler = MinMaxScaler()\n",
    "scaler.fit(df)\n",
    "df = scaler.transform(df)"
   ]
  },
  {
   "cell_type": "code",
   "execution_count": 22,
   "metadata": {},
   "outputs": [
    {
     "data": {
      "text/plain": [
       "array([[0.        , 1.        , 0.25352113, ..., 0.        , 0.        ,\n",
       "        0.83333333],\n",
       "       [1.        , 1.        , 0.26760563, ..., 0.5       , 0.375     ,\n",
       "        0.83333333],\n",
       "       [0.        , 1.        , 0.71830986, ..., 0.        , 0.        ,\n",
       "        0.83333333],\n",
       "       ...,\n",
       "       [0.        , 0.        , 0.49295775, ..., 0.        , 0.125     ,\n",
       "        0.83333333],\n",
       "       [1.        , 1.        , 0.4084507 , ..., 1.        , 0.5       ,\n",
       "        0.5       ],\n",
       "       [0.        , 0.        , 0.35211268, ..., 0.        , 0.25      ,\n",
       "        1.        ]])"
      ]
     },
     "execution_count": 22,
     "metadata": {},
     "output_type": "execute_result"
    }
   ],
   "source": [
    "df"
   ]
  },
  {
   "cell_type": "code",
   "execution_count": 34,
   "metadata": {},
   "outputs": [],
   "source": [
    "dff = pd.DataFrame(np.array(df), columns =['Gender', 'Ever_Married', 'Age', 'Graduated', 'Profession',\n",
    "       'Work_Experience', 'Spending_Score', 'Family_Size', 'Category'])"
   ]
  },
  {
   "cell_type": "code",
   "execution_count": 35,
   "metadata": {},
   "outputs": [
    {
     "data": {
      "text/html": [
       "<div>\n",
       "<style scoped>\n",
       "    .dataframe tbody tr th:only-of-type {\n",
       "        vertical-align: middle;\n",
       "    }\n",
       "\n",
       "    .dataframe tbody tr th {\n",
       "        vertical-align: top;\n",
       "    }\n",
       "\n",
       "    .dataframe thead th {\n",
       "        text-align: right;\n",
       "    }\n",
       "</style>\n",
       "<table border=\"1\" class=\"dataframe\">\n",
       "  <thead>\n",
       "    <tr style=\"text-align: right;\">\n",
       "      <th></th>\n",
       "      <th>Gender</th>\n",
       "      <th>Ever_Married</th>\n",
       "      <th>Age</th>\n",
       "      <th>Graduated</th>\n",
       "      <th>Profession</th>\n",
       "      <th>Work_Experience</th>\n",
       "      <th>Spending_Score</th>\n",
       "      <th>Family_Size</th>\n",
       "      <th>Category</th>\n",
       "    </tr>\n",
       "  </thead>\n",
       "  <tbody>\n",
       "    <tr>\n",
       "      <th>0</th>\n",
       "      <td>0.0</td>\n",
       "      <td>1.0</td>\n",
       "      <td>0.253521</td>\n",
       "      <td>1.0</td>\n",
       "      <td>0.000</td>\n",
       "      <td>0.000000</td>\n",
       "      <td>0.0</td>\n",
       "      <td>0.000</td>\n",
       "      <td>0.833333</td>\n",
       "    </tr>\n",
       "    <tr>\n",
       "      <th>1</th>\n",
       "      <td>1.0</td>\n",
       "      <td>1.0</td>\n",
       "      <td>0.267606</td>\n",
       "      <td>1.0</td>\n",
       "      <td>0.125</td>\n",
       "      <td>0.571429</td>\n",
       "      <td>0.5</td>\n",
       "      <td>0.375</td>\n",
       "      <td>0.833333</td>\n",
       "    </tr>\n",
       "    <tr>\n",
       "      <th>2</th>\n",
       "      <td>0.0</td>\n",
       "      <td>1.0</td>\n",
       "      <td>0.718310</td>\n",
       "      <td>0.0</td>\n",
       "      <td>0.125</td>\n",
       "      <td>0.000000</td>\n",
       "      <td>0.0</td>\n",
       "      <td>0.000</td>\n",
       "      <td>0.833333</td>\n",
       "    </tr>\n",
       "    <tr>\n",
       "      <th>3</th>\n",
       "      <td>1.0</td>\n",
       "      <td>1.0</td>\n",
       "      <td>0.577465</td>\n",
       "      <td>0.0</td>\n",
       "      <td>0.250</td>\n",
       "      <td>0.785714</td>\n",
       "      <td>1.0</td>\n",
       "      <td>0.125</td>\n",
       "      <td>0.833333</td>\n",
       "    </tr>\n",
       "    <tr>\n",
       "      <th>4</th>\n",
       "      <td>0.0</td>\n",
       "      <td>0.0</td>\n",
       "      <td>0.014085</td>\n",
       "      <td>0.0</td>\n",
       "      <td>0.375</td>\n",
       "      <td>0.785714</td>\n",
       "      <td>0.0</td>\n",
       "      <td>0.375</td>\n",
       "      <td>0.833333</td>\n",
       "    </tr>\n",
       "  </tbody>\n",
       "</table>\n",
       "</div>"
      ],
      "text/plain": [
       "   Gender  Ever_Married       Age  Graduated  Profession  Work_Experience  \\\n",
       "0     0.0           1.0  0.253521        1.0       0.000         0.000000   \n",
       "1     1.0           1.0  0.267606        1.0       0.125         0.571429   \n",
       "2     0.0           1.0  0.718310        0.0       0.125         0.000000   \n",
       "3     1.0           1.0  0.577465        0.0       0.250         0.785714   \n",
       "4     0.0           0.0  0.014085        0.0       0.375         0.785714   \n",
       "\n",
       "   Spending_Score  Family_Size  Category  \n",
       "0             0.0        0.000  0.833333  \n",
       "1             0.5        0.375  0.833333  \n",
       "2             0.0        0.000  0.833333  \n",
       "3             1.0        0.125  0.833333  \n",
       "4             0.0        0.375  0.833333  "
      ]
     },
     "execution_count": 35,
     "metadata": {},
     "output_type": "execute_result"
    }
   ],
   "source": [
    "dff.head()"
   ]
  },
  {
   "cell_type": "code",
   "execution_count": 48,
   "metadata": {},
   "outputs": [],
   "source": [
    "k_rng = range(1,10)\n",
    "sse = []\n",
    "for k in k_rng:\n",
    "    km = KMeans(n_clusters = k)\n",
    "    km.fit(dff)\n",
    "    sse.append(km.inertia_)\n"
   ]
  },
  {
   "cell_type": "code",
   "execution_count": 49,
   "metadata": {
    "scrolled": false
   },
   "outputs": [
    {
     "data": {
      "text/plain": [
       "[3037.4064976088525,\n",
       " 2182.573719044609,\n",
       " 1806.511281355385,\n",
       " 1506.8194369400417,\n",
       " 1287.9797109765977,\n",
       " 1157.302215389477,\n",
       " 1023.6491060186627,\n",
       " 909.9675385087544,\n",
       " 839.3352719152736]"
      ]
     },
     "execution_count": 49,
     "metadata": {},
     "output_type": "execute_result"
    }
   ],
   "source": [
    "sse"
   ]
  },
  {
   "cell_type": "code",
   "execution_count": 56,
   "metadata": {},
   "outputs": [],
   "source": [
    "mycenters = pd.DataFrame({'Cluster' : k_rng, 'SSE' : sse })"
   ]
  },
  {
   "cell_type": "code",
   "execution_count": 58,
   "metadata": {},
   "outputs": [
    {
     "data": {
      "text/plain": [
       "<AxesSubplot:xlabel='Cluster', ylabel='SSE'>"
      ]
     },
     "execution_count": 58,
     "metadata": {},
     "output_type": "execute_result"
    },
    {
     "data": {
      "image/png": "[encoded data removed]",
      "text/plain": [
       "<Figure size 432x288 with 1 Axes>"
      ]
     },
     "metadata": {
      "needs_background": "light"
     },
     "output_type": "display_data"
    }
   ],
   "source": [
    "sns.scatterplot(x = 'Cluster', y = 'SSE', data = mycenters, marker = \"+\")"
   ]
  },
  {
   "cell_type": "code",
   "execution_count": 50,
   "metadata": {},
   "outputs": [
    {
     "data": {
      "text/plain": [
       "[<matplotlib.lines.Line2D at 0x1879a2e9be0>]"
      ]
     },
     "execution_count": 50,
     "metadata": {},
     "output_type": "execute_result"
    },
    {
     "data": {
      "image/png": "[encoded data removed]",
      "text/plain": [
       "<Figure size 432x288 with 1 Axes>"
      ]
     },
     "metadata": {
      "needs_background": "light"
     },
     "output_type": "display_data"
    }
   ],
   "source": [
    "plt.xlabel('K')\n",
    "plt.ylabel('Sum of squared error')\n",
    "plt.plot(k_rng, sse)"
   ]
  },
  {
   "cell_type": "code",
   "execution_count": 64,
   "metadata": {},
   "outputs": [
    {
     "name": "stdout",
     "output_type": "stream",
     "text": [
      "Silhouette score for k(clusters) = 3 is 0.2619455722469936\n",
      "Silhouette score for k(clusters) = 4 is 0.30102481837757855\n",
      "Silhouette score for k(clusters) = 5 is 0.31622549375188297\n",
      "Silhouette score for k(clusters) = 6 is 0.32190679816980994\n",
      "Silhouette score for k(clusters) = 7 is 0.35580854302049886\n",
      "Silhouette score for k(clusters) = 8 is 0.3864120891201902\n",
      "Silhouette score for k(clusters) = 9 is 0.3589171352268503\n",
      "Silhouette score for k(clusters) = 10 is 0.3420858415273973\n",
      "Silhouette score for k(clusters) = 11 is 0.3441895654278276\n",
      "Silhouette score for k(clusters) = 12 is 0.33048450630316056\n",
      "Silhouette score for k(clusters) = 13 is 0.32543210712330845\n",
      "Silhouette score for k(clusters) = 14 is 0.30884396639205136\n"
     ]
    }
   ],
   "source": [
    "\n",
    "for i in range(3,15):\n",
    "    labels = cluster.KMeans(n_clusters=i, init = \"k-means++\", random_state = 200).fit(dff).labels_\n",
    "    print(\"Silhouette score for k(clusters) = \"+str(i)+\" is \"\n",
    "         + str(metrics.silhouette_score(dff,labels, metric='euclidean', sample_size=1000, random_state=200)))\n"
   ]
  },
  {
   "cell_type": "code",
   "execution_count": 77,
   "metadata": {},
   "outputs": [
    {
     "data": {
      "text/plain": [
       "KMeans()"
      ]
     },
     "execution_count": 77,
     "metadata": {},
     "output_type": "execute_result"
    }
   ],
   "source": [
    "Kmean = KMeans(n_clusters=8)\n",
    "Kmean.fit(dff)"
   ]
  },
  {
   "cell_type": "code",
   "execution_count": 78,
   "metadata": {
    "scrolled": false
   },
   "outputs": [
    {
     "data": {
      "text/plain": [
       "array([[-1.11022302e-16,  6.66133815e-16,  2.76253264e-01,\n",
       "         1.00000000e+00,  4.82522796e-01,  2.48588797e-01,\n",
       "         9.11854103e-03,  1.62234043e-01,  7.09219858e-01,\n",
       "         3.00000000e+00],\n",
       "       [ 1.00000000e+00,  6.66133815e-16,  1.22492531e-01,\n",
       "         2.22044605e-16,  2.96296296e-01,  1.57768158e-01,\n",
       "         5.05050505e-03,  3.48484848e-01,  6.16722783e-01,\n",
       "         6.00000000e+00],\n",
       "       [ 1.00000000e+00,  9.97422680e-01,  4.56693771e-01,\n",
       "         1.00000000e+00,  5.57345361e-01,  1.59793814e-01,\n",
       "         6.81701031e-01,  2.47100515e-01,  7.33676976e-01,\n",
       "         2.00000000e+00],\n",
       "       [ 6.05095541e-01,  1.00000000e+00,  4.75464250e-01,\n",
       "        -2.22044605e-16,  4.94957537e-01,  1.55747649e-01,\n",
       "         4.73460722e-01,  2.49203822e-01,  6.63481953e-01,\n",
       "         7.00000000e+00],\n",
       "       [-1.11022302e-16,  5.55111512e-16,  1.44734516e-01,\n",
       "         5.55111512e-16,  3.53033473e-01,  2.22056186e-01,\n",
       "         4.18410042e-03,  3.15899582e-01,  6.34588563e-01,\n",
       "         1.00000000e+00],\n",
       "       [ 1.11022302e-16,  1.00000000e+00,  4.86150758e-01,\n",
       "         1.00000000e+00,  5.68207127e-01,  1.68151448e-01,\n",
       "         4.55456570e-01,  1.92371938e-01,  6.97475872e-01,\n",
       "         4.00000000e+00],\n",
       "       [ 1.00000000e+00,  1.00000000e+00,  4.82762685e-01,\n",
       "         1.00000000e+00,  5.93619247e-01,  1.75433353e-01,\n",
       "         0.00000000e+00,  1.37029289e-01,  7.41283124e-01,\n",
       "         4.44089210e-16],\n",
       "       [ 1.00000000e+00,  4.44089210e-16,  2.43629217e-01,\n",
       "         1.00000000e+00,  5.24418605e-01,  2.40199336e-01,\n",
       "         4.65116279e-03,  1.72093023e-01,  6.94573643e-01,\n",
       "         5.00000000e+00]])"
      ]
     },
     "execution_count": 78,
     "metadata": {},
     "output_type": "execute_result"
    }
   ],
   "source": [
    "Kmean.cluster_centers_"
   ]
  },
  {
   "cell_type": "code",
   "execution_count": null,
   "metadata": {},
   "outputs": [],
   "source": [
    "plt.scatter(X[ : , 0], X[ : , 1], s =50, c=’b’)\n",
    "\n",
    "plt.scatter(-0.94665068, -0.97138368, s=200, c=’g’, marker=’s’)\n",
    "\n",
    "plt.scatter(2.01559419, 2.02597093, s=200, c=’r’, marker=’s’)\n",
    "\n",
    "plt.show()"
   ]
  },
  {
   "cell_type": "code",
   "execution_count": 66,
   "metadata": {},
   "outputs": [
    {
     "data": {
      "text/plain": [
       "array([4, 2, 7, ..., 3, 2, 3])"
      ]
     },
     "execution_count": 66,
     "metadata": {},
     "output_type": "execute_result"
    }
   ],
   "source": [
    "y_predicted = km.fit_predict(dff)\n",
    "y_predicted"
   ]
  },
  {
   "cell_type": "code",
   "execution_count": 68,
   "metadata": {},
   "outputs": [
    {
     "data": {
      "text/html": [
       "<div>\n",
       "<style scoped>\n",
       "    .dataframe tbody tr th:only-of-type {\n",
       "        vertical-align: middle;\n",
       "    }\n",
       "\n",
       "    .dataframe tbody tr th {\n",
       "        vertical-align: top;\n",
       "    }\n",
       "\n",
       "    .dataframe thead th {\n",
       "        text-align: right;\n",
       "    }\n",
       "</style>\n",
       "<table border=\"1\" class=\"dataframe\">\n",
       "  <thead>\n",
       "    <tr style=\"text-align: right;\">\n",
       "      <th></th>\n",
       "      <th>Gender</th>\n",
       "      <th>Ever_Married</th>\n",
       "      <th>Age</th>\n",
       "      <th>Graduated</th>\n",
       "      <th>Profession</th>\n",
       "      <th>Work_Experience</th>\n",
       "      <th>Spending_Score</th>\n",
       "      <th>Family_Size</th>\n",
       "      <th>Category</th>\n",
       "      <th>cluster</th>\n",
       "    </tr>\n",
       "  </thead>\n",
       "  <tbody>\n",
       "    <tr>\n",
       "      <th>0</th>\n",
       "      <td>0.0</td>\n",
       "      <td>1.0</td>\n",
       "      <td>0.253521</td>\n",
       "      <td>1.0</td>\n",
       "      <td>0.000</td>\n",
       "      <td>0.000000</td>\n",
       "      <td>0.0</td>\n",
       "      <td>0.000</td>\n",
       "      <td>0.833333</td>\n",
       "      <td>4</td>\n",
       "    </tr>\n",
       "    <tr>\n",
       "      <th>1</th>\n",
       "      <td>1.0</td>\n",
       "      <td>1.0</td>\n",
       "      <td>0.267606</td>\n",
       "      <td>1.0</td>\n",
       "      <td>0.125</td>\n",
       "      <td>0.571429</td>\n",
       "      <td>0.5</td>\n",
       "      <td>0.375</td>\n",
       "      <td>0.833333</td>\n",
       "      <td>2</td>\n",
       "    </tr>\n",
       "    <tr>\n",
       "      <th>2</th>\n",
       "      <td>0.0</td>\n",
       "      <td>1.0</td>\n",
       "      <td>0.718310</td>\n",
       "      <td>0.0</td>\n",
       "      <td>0.125</td>\n",
       "      <td>0.000000</td>\n",
       "      <td>0.0</td>\n",
       "      <td>0.000</td>\n",
       "      <td>0.833333</td>\n",
       "      <td>7</td>\n",
       "    </tr>\n",
       "    <tr>\n",
       "      <th>3</th>\n",
       "      <td>1.0</td>\n",
       "      <td>1.0</td>\n",
       "      <td>0.577465</td>\n",
       "      <td>0.0</td>\n",
       "      <td>0.250</td>\n",
       "      <td>0.785714</td>\n",
       "      <td>1.0</td>\n",
       "      <td>0.125</td>\n",
       "      <td>0.833333</td>\n",
       "      <td>7</td>\n",
       "    </tr>\n",
       "    <tr>\n",
       "      <th>4</th>\n",
       "      <td>0.0</td>\n",
       "      <td>0.0</td>\n",
       "      <td>0.014085</td>\n",
       "      <td>0.0</td>\n",
       "      <td>0.375</td>\n",
       "      <td>0.785714</td>\n",
       "      <td>0.0</td>\n",
       "      <td>0.375</td>\n",
       "      <td>0.833333</td>\n",
       "      <td>1</td>\n",
       "    </tr>\n",
       "    <tr>\n",
       "      <th>...</th>\n",
       "      <td>...</td>\n",
       "      <td>...</td>\n",
       "      <td>...</td>\n",
       "      <td>...</td>\n",
       "      <td>...</td>\n",
       "      <td>...</td>\n",
       "      <td>...</td>\n",
       "      <td>...</td>\n",
       "      <td>...</td>\n",
       "      <td>...</td>\n",
       "    </tr>\n",
       "    <tr>\n",
       "      <th>2622</th>\n",
       "      <td>1.0</td>\n",
       "      <td>0.0</td>\n",
       "      <td>0.154930</td>\n",
       "      <td>0.0</td>\n",
       "      <td>0.125</td>\n",
       "      <td>0.642857</td>\n",
       "      <td>0.0</td>\n",
       "      <td>0.375</td>\n",
       "      <td>0.833333</td>\n",
       "      <td>6</td>\n",
       "    </tr>\n",
       "    <tr>\n",
       "      <th>2623</th>\n",
       "      <td>0.0</td>\n",
       "      <td>0.0</td>\n",
       "      <td>0.239437</td>\n",
       "      <td>1.0</td>\n",
       "      <td>0.500</td>\n",
       "      <td>0.071429</td>\n",
       "      <td>0.0</td>\n",
       "      <td>0.000</td>\n",
       "      <td>0.833333</td>\n",
       "      <td>3</td>\n",
       "    </tr>\n",
       "    <tr>\n",
       "      <th>2624</th>\n",
       "      <td>0.0</td>\n",
       "      <td>0.0</td>\n",
       "      <td>0.492958</td>\n",
       "      <td>1.0</td>\n",
       "      <td>0.875</td>\n",
       "      <td>0.071429</td>\n",
       "      <td>0.0</td>\n",
       "      <td>0.125</td>\n",
       "      <td>0.833333</td>\n",
       "      <td>3</td>\n",
       "    </tr>\n",
       "    <tr>\n",
       "      <th>2625</th>\n",
       "      <td>1.0</td>\n",
       "      <td>1.0</td>\n",
       "      <td>0.408451</td>\n",
       "      <td>1.0</td>\n",
       "      <td>0.250</td>\n",
       "      <td>0.071429</td>\n",
       "      <td>1.0</td>\n",
       "      <td>0.500</td>\n",
       "      <td>0.500000</td>\n",
       "      <td>2</td>\n",
       "    </tr>\n",
       "    <tr>\n",
       "      <th>2626</th>\n",
       "      <td>0.0</td>\n",
       "      <td>0.0</td>\n",
       "      <td>0.352113</td>\n",
       "      <td>1.0</td>\n",
       "      <td>0.125</td>\n",
       "      <td>0.642857</td>\n",
       "      <td>0.0</td>\n",
       "      <td>0.250</td>\n",
       "      <td>1.000000</td>\n",
       "      <td>3</td>\n",
       "    </tr>\n",
       "  </tbody>\n",
       "</table>\n",
       "<p>2627 rows × 10 columns</p>\n",
       "</div>"
      ],
      "text/plain": [
       "      Gender  Ever_Married       Age  Graduated  Profession  Work_Experience  \\\n",
       "0        0.0           1.0  0.253521        1.0       0.000         0.000000   \n",
       "1        1.0           1.0  0.267606        1.0       0.125         0.571429   \n",
       "2        0.0           1.0  0.718310        0.0       0.125         0.000000   \n",
       "3        1.0           1.0  0.577465        0.0       0.250         0.785714   \n",
       "4        0.0           0.0  0.014085        0.0       0.375         0.785714   \n",
       "...      ...           ...       ...        ...         ...              ...   \n",
       "2622     1.0           0.0  0.154930        0.0       0.125         0.642857   \n",
       "2623     0.0           0.0  0.239437        1.0       0.500         0.071429   \n",
       "2624     0.0           0.0  0.492958        1.0       0.875         0.071429   \n",
       "2625     1.0           1.0  0.408451        1.0       0.250         0.071429   \n",
       "2626     0.0           0.0  0.352113        1.0       0.125         0.642857   \n",
       "\n",
       "      Spending_Score  Family_Size  Category  cluster  \n",
       "0                0.0        0.000  0.833333        4  \n",
       "1                0.5        0.375  0.833333        2  \n",
       "2                0.0        0.000  0.833333        7  \n",
       "3                1.0        0.125  0.833333        7  \n",
       "4                0.0        0.375  0.833333        1  \n",
       "...              ...          ...       ...      ...  \n",
       "2622             0.0        0.375  0.833333        6  \n",
       "2623             0.0        0.000  0.833333        3  \n",
       "2624             0.0        0.125  0.833333        3  \n",
       "2625             1.0        0.500  0.500000        2  \n",
       "2626             0.0        0.250  1.000000        3  \n",
       "\n",
       "[2627 rows x 10 columns]"
      ]
     },
     "execution_count": 68,
     "metadata": {},
     "output_type": "execute_result"
    }
   ],
   "source": [
    "dff['cluster'] = y_predicted\n",
    "dff"
   ]
  },
  {
   "cell_type": "code",
   "execution_count": 74,
   "metadata": {},
   "outputs": [
    {
     "name": "stderr",
     "output_type": "stream",
     "text": [
      "No handles with labels found to put in legend.\n"
     ]
    },
    {
     "data": {
      "text/plain": [
       "<matplotlib.legend.Legend at 0x1879a09de80>"
      ]
     },
     "execution_count": 74,
     "metadata": {},
     "output_type": "execute_result"
    },
    {
     "data": {
      "image/png": "[encoded data removed]",
      "text/plain": [
       "<Figure size 432x288 with 1 Axes>"
      ]
     },
     "metadata": {
      "needs_background": "light"
     },
     "output_type": "display_data"
    }
   ],
   "source": [
    "df1 = dff[dff.cluster==0]\n",
    "df2 = dff[dff.cluster==1]\n",
    "df3 = dff[dff.cluster==2]\n",
    "df4 = dff[dff.cluster==3]\n",
    "df5 = dff[dff.cluster==4]\n",
    "df6 = dff[dff.cluster==5]\n",
    "df7 = dff[dff.cluster==6]\n",
    "df8 = dff[dff.cluster==7]\n",
    "plt.scatter(df1.Age,df1.Graduated, color = 'green')\n",
    "plt.scatter(df2.Age,df2.Graduated, color = 'red')\n",
    "plt.scatter(df3.Age,df3.Graduated, color = 'black')\n",
    "plt.scatter(df4.Age,df4.Graduated, color = 'yellow')\n",
    "plt.scatter(df5.Age,df5.Graduated, color = 'purple')\n",
    "plt.scatter(df6.Age,df6.Graduated, color = 'blue')\n",
    "plt.scatter(df7.Age,df7.Graduated, color = 'pink')\n",
    "plt.scatter(df8.Age,df8.Graduated, color = 'orange')\n",
    "\n",
    "plt.legend()"
   ]
  },
  {
   "cell_type": "code",
   "execution_count": null,
   "metadata": {},
   "outputs": [],
   "source": []
  }
 ],
 "metadata": {
  "kernelspec": {
   "display_name": "Python 3",
   "language": "python",
   "name": "python3"
  },
  "language_info": {
   "codemirror_mode": {
    "name": "ipython",
    "version": 3
   },
   "file_extension": ".py",
   "mimetype": "text/x-python",
   "name": "python",
   "nbconvert_exporter": "python",
   "pygments_lexer": "ipython3",
   "version": "3.8.5"
  }
 },
 "nbformat": 4,
 "nbformat_minor": 4
}
